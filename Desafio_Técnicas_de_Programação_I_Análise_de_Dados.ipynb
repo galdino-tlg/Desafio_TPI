{
  "nbformat": 4,
  "nbformat_minor": 0,
  "metadata": {
    "colab": {
      "provenance": []
    },
    "kernelspec": {
      "name": "python3",
      "display_name": "Python 3"
    },
    "language_info": {
      "name": "python"
    }
  },
  "cells": [
    {
      "cell_type": "markdown",
      "source": [
        "## Análise de Dados - Cursos plataforma de ensino *online*\n",
        "\n",
        "A análise de dados é uma ferramenta essencial para impulsionar os negócios de uma empresa, e consequentemente, agregar valor.\n",
        "<br>\n",
        "<br>\n",
        "Um dos profissionais necessários para a geração de valor para empresas, é o cientista/analista de dados. Este profissional é capaz de retirar insights de diversas fontes de dados.\n",
        "<br>\n",
        "<br>\n",
        "Dito tudo isso, você, como cientista/analista de dados recebeu a missão de analisar dados de uma empresa ensino online de tecnologia. Seu principal objetivo, é através dos dados (disponibilizados na <a href=\"https://drive.google.com/file/d/1PE-9PTK5twBuUOuuKAk3Oo02Is8Dr8q-/view?usp=share_link\">pasta compartilhada</a> deste módulo), é o de responder algumas perguntas de negócios para auxiliar a empresa a aprimorar os seus serviços e produtos.\n",
        "<br>\n",
        "<br>\n",
        "Detalhes da base de dados podem ser vistos na plataforma Kaggle pelo <a href=\"https://www.kaggle.com/datasets/thedevastator/udemy-courses-revenue-generation-and-course-anal\">link</a>\n",
        "<br>\n",
        "<br>\n",
        "Para isso, use os conhecimentos obtidos neste módulo (e anteriores) para responder as seguintes questões:\n",
        "\n",
        "**Dicas:**\n",
        "\n",
        "- Serão três diferentes bases de dados disponibilizadas na pasta do módulo, separadas por assunto (curso). Porém, todas elas contêm o mesmo cabeçalho. Logo, para que consiga responder as perguntas abaixo, unifique-as em um único **DataFrame** do pandas, e realize as análises.\n",
        "- Não é necessário criar gráficos/visualizações para apresentar os resultados de cada pergunta. Porém, se você estiver confortável para criá-los quando necessário, fique à vontade."
      ],
      "metadata": {
        "id": "OwnjctYVYDiH"
      }
    },
    {
      "cell_type": "markdown",
      "source": [
        "### Perguntas a serem respondidas a partir dos dados."
      ],
      "metadata": {
        "id": "CAutWLQXtZm1"
      }
    },
    {
      "cell_type": "code",
      "source": [
        "import numpy as np\n",
        "import pandas as pd"
      ],
      "metadata": {
        "id": "Dk2njfJsx2G0"
      },
      "execution_count": null,
      "outputs": []
    },
    {
      "cell_type": "code",
      "source": [
        "course_business = pd.read_csv(\"/content/3.1-data-sheet-udemy-courses-business-courses.csv\",sep=\",\")\n",
        "course_design = pd.read_csv(\"/content/3.1-data-sheet-udemy-courses-design-courses.csv\", sep=\",\")\n",
        "course_music = pd.read_csv(\"/content/3.1-data-sheet-udemy-courses-music-courses.csv\", sep=\",\")\n",
        "course_web_development = pd.read_csv(\"/content/3.1-data-sheet-udemy-courses-web-development.csv\", sep=\",\")"
      ],
      "metadata": {
        "id": "9p9SdDSgzDHF"
      },
      "execution_count": null,
      "outputs": []
    },
    {
      "cell_type": "code",
      "source": [
        "courses = pd.concat([course_business, course_design, course_music,  course_web_development]) "
      ],
      "metadata": {
        "id": "BYkphp450JLf"
      },
      "execution_count": null,
      "outputs": []
    },
    {
      "cell_type": "code",
      "source": [
        "courses.to_csv(\"total_courses\", index=False)"
      ],
      "metadata": {
        "id": "vA5E5t19yVMP"
      },
      "execution_count": null,
      "outputs": []
    },
    {
      "cell_type": "code",
      "source": [
        "courses = pd.read_csv(\"/content/total_courses\", sep=\",\")"
      ],
      "metadata": {
        "id": "JVc3skEVoPr8"
      },
      "execution_count": null,
      "outputs": []
    },
    {
      "cell_type": "code",
      "source": [
        "courses"
      ],
      "metadata": {
        "id": "t7Iq4Ulx5OZA"
      },
      "execution_count": null,
      "outputs": []
    },
    {
      "cell_type": "code",
      "source": [
        "courses.info()"
      ],
      "metadata": {
        "id": "GWMfIJ9V60D0"
      },
      "execution_count": null,
      "outputs": []
    },
    {
      "cell_type": "markdown",
      "source": [
        "1. Quantos cursos estão disponíveis na plataforma?"
      ],
      "metadata": {
        "id": "LxbUDG_aoEJX"
      }
    },
    {
      "cell_type": "code",
      "source": [
        "qtd_courses = courses[\"course_title\"].count()\n",
        "\n",
        "print(f'Estão disponíveis na plataforma {qtd_courses} cursos!')"
      ],
      "metadata": {
        "colab": {
          "base_uri": "https://localhost:8080/"
        },
        "id": "xaoVejsc6X9c",
        "outputId": "a09dfaf4-955d-4efa-b665-0132984a446d"
      },
      "execution_count": null,
      "outputs": [
        {
          "output_type": "stream",
          "name": "stdout",
          "text": [
            "Estão disponíveis na plataforma 3676 cursos!\n"
          ]
        }
      ]
    },
    {
      "cell_type": "markdown",
      "source": [
        "2. Quais e quantos são os cursos que abordam o assunto: JavaScript?"
      ],
      "metadata": {
        "id": "eFKSLDeyoQCF"
      }
    },
    {
      "cell_type": "code",
      "source": [
        "courses[\"course_title\"] = courses[\"course_title\"].str.lower()\n",
        "course_subject = courses[courses[\"course_title\"].str.contains(\"javascript\", na=False)]\n",
        "course_subject"
      ],
      "metadata": {
        "id": "z1cLUiw8okVI"
      },
      "execution_count": null,
      "outputs": []
    },
    {
      "cell_type": "markdown",
      "source": [
        "3. Qual é o preço médio (coluna *price*) dos cursos oferecidos na plataforma?"
      ],
      "metadata": {
        "id": "G4cUox4RooOk"
      }
    },
    {
      "cell_type": "code",
      "source": [
        "price_mean = courses[\"price\"].mean()\n",
        "\n",
        "print(f\"O preço médio dos cursos oferecidos na plataforma é de R${price_mean:.2f}\")"
      ],
      "metadata": {
        "id": "FKOIIjcVo3xg",
        "colab": {
          "base_uri": "https://localhost:8080/"
        },
        "outputId": "3e2de855-2bc6-453b-8ba5-f45d6e829d42"
      },
      "execution_count": null,
      "outputs": [
        {
          "output_type": "stream",
          "name": "stdout",
          "text": [
            "O preço médio dos cursos oferecidos na plataforma é de R$66.12\n"
          ]
        }
      ]
    },
    {
      "cell_type": "markdown",
      "source": [
        "4. Quais são os cinco cursos com maior número de inscritos (coluna *num_subscribers*)?"
      ],
      "metadata": {
        "id": "e-zGn_o0o2go"
      }
    },
    {
      "cell_type": "code",
      "source": [
        "course_max_subscribers = courses.sort_values(\"num_subscribers\", ascending=False).reset_index()[\n",
        "    [\"course_id\",\"course_title\",\"num_subscribers\"]\n",
        "    ].head(5)\n",
        "course_max_subscribers"
      ],
      "metadata": {
        "id": "ewd5ZmqcpFND",
        "colab": {
          "base_uri": "https://localhost:8080/",
          "height": 206
        },
        "outputId": "4e8b7f39-6670-4c6f-8db2-d3954bbcfffc"
      },
      "execution_count": null,
      "outputs": [
        {
          "output_type": "execute_result",
          "data": {
            "text/plain": [
              "   course_id                                       course_title  \\\n",
              "0    41295.0               Learn HTML5 Programming From Scratch   \n",
              "1    59014.0                     Coding for Entrepreneurs Basic   \n",
              "2   625204.0                         The Web Developer Bootcamp   \n",
              "3   173548.0  Build Your First Website in 1 Week with HTML5 ...   \n",
              "4   764164.0              The Complete Web Developer Course 2.0   \n",
              "\n",
              "   num_subscribers  \n",
              "0         268923.0  \n",
              "1         161029.0  \n",
              "2         121584.0  \n",
              "3         120291.0  \n",
              "4         114512.0  "
            ],
            "text/html": [
              "\n",
              "  <div id=\"df-6f20bc24-a721-4aff-b9d8-a573bf429db7\">\n",
              "    <div class=\"colab-df-container\">\n",
              "      <div>\n",
              "<style scoped>\n",
              "    .dataframe tbody tr th:only-of-type {\n",
              "        vertical-align: middle;\n",
              "    }\n",
              "\n",
              "    .dataframe tbody tr th {\n",
              "        vertical-align: top;\n",
              "    }\n",
              "\n",
              "    .dataframe thead th {\n",
              "        text-align: right;\n",
              "    }\n",
              "</style>\n",
              "<table border=\"1\" class=\"dataframe\">\n",
              "  <thead>\n",
              "    <tr style=\"text-align: right;\">\n",
              "      <th></th>\n",
              "      <th>course_id</th>\n",
              "      <th>course_title</th>\n",
              "      <th>num_subscribers</th>\n",
              "    </tr>\n",
              "  </thead>\n",
              "  <tbody>\n",
              "    <tr>\n",
              "      <th>0</th>\n",
              "      <td>41295.0</td>\n",
              "      <td>Learn HTML5 Programming From Scratch</td>\n",
              "      <td>268923.0</td>\n",
              "    </tr>\n",
              "    <tr>\n",
              "      <th>1</th>\n",
              "      <td>59014.0</td>\n",
              "      <td>Coding for Entrepreneurs Basic</td>\n",
              "      <td>161029.0</td>\n",
              "    </tr>\n",
              "    <tr>\n",
              "      <th>2</th>\n",
              "      <td>625204.0</td>\n",
              "      <td>The Web Developer Bootcamp</td>\n",
              "      <td>121584.0</td>\n",
              "    </tr>\n",
              "    <tr>\n",
              "      <th>3</th>\n",
              "      <td>173548.0</td>\n",
              "      <td>Build Your First Website in 1 Week with HTML5 ...</td>\n",
              "      <td>120291.0</td>\n",
              "    </tr>\n",
              "    <tr>\n",
              "      <th>4</th>\n",
              "      <td>764164.0</td>\n",
              "      <td>The Complete Web Developer Course 2.0</td>\n",
              "      <td>114512.0</td>\n",
              "    </tr>\n",
              "  </tbody>\n",
              "</table>\n",
              "</div>\n",
              "      <button class=\"colab-df-convert\" onclick=\"convertToInteractive('df-6f20bc24-a721-4aff-b9d8-a573bf429db7')\"\n",
              "              title=\"Convert this dataframe to an interactive table.\"\n",
              "              style=\"display:none;\">\n",
              "        \n",
              "  <svg xmlns=\"http://www.w3.org/2000/svg\" height=\"24px\"viewBox=\"0 0 24 24\"\n",
              "       width=\"24px\">\n",
              "    <path d=\"M0 0h24v24H0V0z\" fill=\"none\"/>\n",
              "    <path d=\"M18.56 5.44l.94 2.06.94-2.06 2.06-.94-2.06-.94-.94-2.06-.94 2.06-2.06.94zm-11 1L8.5 8.5l.94-2.06 2.06-.94-2.06-.94L8.5 2.5l-.94 2.06-2.06.94zm10 10l.94 2.06.94-2.06 2.06-.94-2.06-.94-.94-2.06-.94 2.06-2.06.94z\"/><path d=\"M17.41 7.96l-1.37-1.37c-.4-.4-.92-.59-1.43-.59-.52 0-1.04.2-1.43.59L10.3 9.45l-7.72 7.72c-.78.78-.78 2.05 0 2.83L4 21.41c.39.39.9.59 1.41.59.51 0 1.02-.2 1.41-.59l7.78-7.78 2.81-2.81c.8-.78.8-2.07 0-2.86zM5.41 20L4 18.59l7.72-7.72 1.47 1.35L5.41 20z\"/>\n",
              "  </svg>\n",
              "      </button>\n",
              "      \n",
              "  <style>\n",
              "    .colab-df-container {\n",
              "      display:flex;\n",
              "      flex-wrap:wrap;\n",
              "      gap: 12px;\n",
              "    }\n",
              "\n",
              "    .colab-df-convert {\n",
              "      background-color: #E8F0FE;\n",
              "      border: none;\n",
              "      border-radius: 50%;\n",
              "      cursor: pointer;\n",
              "      display: none;\n",
              "      fill: #1967D2;\n",
              "      height: 32px;\n",
              "      padding: 0 0 0 0;\n",
              "      width: 32px;\n",
              "    }\n",
              "\n",
              "    .colab-df-convert:hover {\n",
              "      background-color: #E2EBFA;\n",
              "      box-shadow: 0px 1px 2px rgba(60, 64, 67, 0.3), 0px 1px 3px 1px rgba(60, 64, 67, 0.15);\n",
              "      fill: #174EA6;\n",
              "    }\n",
              "\n",
              "    [theme=dark] .colab-df-convert {\n",
              "      background-color: #3B4455;\n",
              "      fill: #D2E3FC;\n",
              "    }\n",
              "\n",
              "    [theme=dark] .colab-df-convert:hover {\n",
              "      background-color: #434B5C;\n",
              "      box-shadow: 0px 1px 3px 1px rgba(0, 0, 0, 0.15);\n",
              "      filter: drop-shadow(0px 1px 2px rgba(0, 0, 0, 0.3));\n",
              "      fill: #FFFFFF;\n",
              "    }\n",
              "  </style>\n",
              "\n",
              "      <script>\n",
              "        const buttonEl =\n",
              "          document.querySelector('#df-6f20bc24-a721-4aff-b9d8-a573bf429db7 button.colab-df-convert');\n",
              "        buttonEl.style.display =\n",
              "          google.colab.kernel.accessAllowed ? 'block' : 'none';\n",
              "\n",
              "        async function convertToInteractive(key) {\n",
              "          const element = document.querySelector('#df-6f20bc24-a721-4aff-b9d8-a573bf429db7');\n",
              "          const dataTable =\n",
              "            await google.colab.kernel.invokeFunction('convertToInteractive',\n",
              "                                                     [key], {});\n",
              "          if (!dataTable) return;\n",
              "\n",
              "          const docLinkHtml = 'Like what you see? Visit the ' +\n",
              "            '<a target=\"_blank\" href=https://colab.research.google.com/notebooks/data_table.ipynb>data table notebook</a>'\n",
              "            + ' to learn more about interactive tables.';\n",
              "          element.innerHTML = '';\n",
              "          dataTable['output_type'] = 'display_data';\n",
              "          await google.colab.output.renderOutput(dataTable, element);\n",
              "          const docLink = document.createElement('div');\n",
              "          docLink.innerHTML = docLinkHtml;\n",
              "          element.appendChild(docLink);\n",
              "        }\n",
              "      </script>\n",
              "    </div>\n",
              "  </div>\n",
              "  "
            ]
          },
          "metadata": {},
          "execution_count": 15
        }
      ]
    },
    {
      "cell_type": "markdown",
      "source": [
        "5. Dos cinco cursos mais populares em termos de inscritos, mostre o **rate médio**, **máximo** e **mínimo** de cada um deles."
      ],
      "metadata": {
        "id": "VIN541HgpEwf"
      }
    },
    {
      "cell_type": "code",
      "source": [
        "course_max_subscribers[\"num_subscribers\"].agg(['max','min','mean'])\n"
      ],
      "metadata": {
        "id": "OHt_xYF2pfb5",
        "colab": {
          "base_uri": "https://localhost:8080/"
        },
        "outputId": "113a9736-70d1-4fb6-e744-2880c51d792b"
      },
      "execution_count": null,
      "outputs": [
        {
          "output_type": "execute_result",
          "data": {
            "text/plain": [
              "max     268923.0\n",
              "min     114512.0\n",
              "mean    157267.8\n",
              "Name: num_subscribers, dtype: float64"
            ]
          },
          "metadata": {},
          "execution_count": 13
        }
      ]
    },
    {
      "cell_type": "markdown",
      "source": [
        "6. Apresente os dez cursos mais visualizados na plataforma."
      ],
      "metadata": {
        "id": "PBMQyyHTpZ1x"
      }
    },
    {
      "cell_type": "code",
      "source": [
        "course_max_reviews = courses.sort_values(\"num_reviews\", ascending=False).reset_index()[\n",
        "    [\"course_id\",\"course_title\",\"num_reviews\"]\n",
        "    ].head(10)\n",
        "course_max_reviews   "
      ],
      "metadata": {
        "id": "c--SNW6s-6eJ"
      },
      "execution_count": null,
      "outputs": []
    },
    {
      "cell_type": "code",
      "source": [
        "top_course_max_reviews = courses.sort_values(\"num_reviews\", ascending=False).head(10)\n",
        "top_course_max_reviews"
      ],
      "metadata": {
        "id": "MEHyQoW_OnB9"
      },
      "execution_count": null,
      "outputs": []
    },
    {
      "cell_type": "markdown",
      "source": [
        "7. A partir dos dez cursos mais vistos, mostre: 1) qual tem o maior número de inscritos; 2) qual tem o maior **rate** (avaliação do curso)."
      ],
      "metadata": {
        "id": "r4bFZBMIpqlu"
      }
    },
    {
      "cell_type": "code",
      "source": [
        "course_max_reviews = top_course_max_reviews[\"num_reviews\"].max()\n",
        "id_course_max_reviews = top_course_max_reviews[top_course_max_reviews[\"num_reviews\"]==course_max_reviews]\n",
        "id_course_max_reviews\n"
      ],
      "metadata": {
        "id": "TAjdWgV6qXuW"
      },
      "execution_count": null,
      "outputs": []
    },
    {
      "cell_type": "code",
      "source": [
        "course_max_rating = top_course_max_reviews[\"Rating\"].max()\n",
        "id_course_max_rating = top_course_max_reviews[top_course_max_reviews[\"Rating\"]==course_max_rating]\n",
        "id_course_max_rating"
      ],
      "metadata": {
        "id": "thZaet9xPV9d"
      },
      "execution_count": null,
      "outputs": []
    },
    {
      "cell_type": "markdown",
      "source": [
        "8. Dos cursos listados na base de dados, qual tem maior duração em horas?"
      ],
      "metadata": {
        "id": "Gao_HBG1qZY9"
      }
    },
    {
      "cell_type": "code",
      "source": [
        "max_hours = courses[\"content_duration\"].max()\n",
        "course_max_hours = courses[courses[\"content_duration\"]==max_hours]\n",
        "course_max_hours"
      ],
      "metadata": {
        "id": "MvSGEfH9qqQK",
        "colab": {
          "base_uri": "https://localhost:8080/",
          "height": 179
        },
        "outputId": "e62ca12c-093c-4061-9a77-90bc7efb7032"
      },
      "execution_count": null,
      "outputs": [
        {
          "output_type": "execute_result",
          "data": {
            "text/plain": [
              "      course_id                           course_title  \\\n",
              "1358   978576.0  the complete figure drawing course hd   \n",
              "\n",
              "                                                    url  price  \\\n",
              "1358  https://www.udemy.com/the-complete-figure-draw...   50.0   \n",
              "\n",
              "      num_subscribers  num_reviews  num_lectures           level  Rating  \\\n",
              "1358           1323.0        136.0         225.0  Beginner Level    0.37   \n",
              "\n",
              "      content_duration   published_timestamp         subject  \n",
              "1358              78.5  2016-10-11T21:40:06Z  Graphic Design  "
            ],
            "text/html": [
              "\n",
              "  <div id=\"df-81180ffc-51d2-4a56-abbd-a9825c9dca89\">\n",
              "    <div class=\"colab-df-container\">\n",
              "      <div>\n",
              "<style scoped>\n",
              "    .dataframe tbody tr th:only-of-type {\n",
              "        vertical-align: middle;\n",
              "    }\n",
              "\n",
              "    .dataframe tbody tr th {\n",
              "        vertical-align: top;\n",
              "    }\n",
              "\n",
              "    .dataframe thead th {\n",
              "        text-align: right;\n",
              "    }\n",
              "</style>\n",
              "<table border=\"1\" class=\"dataframe\">\n",
              "  <thead>\n",
              "    <tr style=\"text-align: right;\">\n",
              "      <th></th>\n",
              "      <th>course_id</th>\n",
              "      <th>course_title</th>\n",
              "      <th>url</th>\n",
              "      <th>price</th>\n",
              "      <th>num_subscribers</th>\n",
              "      <th>num_reviews</th>\n",
              "      <th>num_lectures</th>\n",
              "      <th>level</th>\n",
              "      <th>Rating</th>\n",
              "      <th>content_duration</th>\n",
              "      <th>published_timestamp</th>\n",
              "      <th>subject</th>\n",
              "    </tr>\n",
              "  </thead>\n",
              "  <tbody>\n",
              "    <tr>\n",
              "      <th>1358</th>\n",
              "      <td>978576.0</td>\n",
              "      <td>the complete figure drawing course hd</td>\n",
              "      <td>https://www.udemy.com/the-complete-figure-draw...</td>\n",
              "      <td>50.0</td>\n",
              "      <td>1323.0</td>\n",
              "      <td>136.0</td>\n",
              "      <td>225.0</td>\n",
              "      <td>Beginner Level</td>\n",
              "      <td>0.37</td>\n",
              "      <td>78.5</td>\n",
              "      <td>2016-10-11T21:40:06Z</td>\n",
              "      <td>Graphic Design</td>\n",
              "    </tr>\n",
              "  </tbody>\n",
              "</table>\n",
              "</div>\n",
              "      <button class=\"colab-df-convert\" onclick=\"convertToInteractive('df-81180ffc-51d2-4a56-abbd-a9825c9dca89')\"\n",
              "              title=\"Convert this dataframe to an interactive table.\"\n",
              "              style=\"display:none;\">\n",
              "        \n",
              "  <svg xmlns=\"http://www.w3.org/2000/svg\" height=\"24px\"viewBox=\"0 0 24 24\"\n",
              "       width=\"24px\">\n",
              "    <path d=\"M0 0h24v24H0V0z\" fill=\"none\"/>\n",
              "    <path d=\"M18.56 5.44l.94 2.06.94-2.06 2.06-.94-2.06-.94-.94-2.06-.94 2.06-2.06.94zm-11 1L8.5 8.5l.94-2.06 2.06-.94-2.06-.94L8.5 2.5l-.94 2.06-2.06.94zm10 10l.94 2.06.94-2.06 2.06-.94-2.06-.94-.94-2.06-.94 2.06-2.06.94z\"/><path d=\"M17.41 7.96l-1.37-1.37c-.4-.4-.92-.59-1.43-.59-.52 0-1.04.2-1.43.59L10.3 9.45l-7.72 7.72c-.78.78-.78 2.05 0 2.83L4 21.41c.39.39.9.59 1.41.59.51 0 1.02-.2 1.41-.59l7.78-7.78 2.81-2.81c.8-.78.8-2.07 0-2.86zM5.41 20L4 18.59l7.72-7.72 1.47 1.35L5.41 20z\"/>\n",
              "  </svg>\n",
              "      </button>\n",
              "      \n",
              "  <style>\n",
              "    .colab-df-container {\n",
              "      display:flex;\n",
              "      flex-wrap:wrap;\n",
              "      gap: 12px;\n",
              "    }\n",
              "\n",
              "    .colab-df-convert {\n",
              "      background-color: #E8F0FE;\n",
              "      border: none;\n",
              "      border-radius: 50%;\n",
              "      cursor: pointer;\n",
              "      display: none;\n",
              "      fill: #1967D2;\n",
              "      height: 32px;\n",
              "      padding: 0 0 0 0;\n",
              "      width: 32px;\n",
              "    }\n",
              "\n",
              "    .colab-df-convert:hover {\n",
              "      background-color: #E2EBFA;\n",
              "      box-shadow: 0px 1px 2px rgba(60, 64, 67, 0.3), 0px 1px 3px 1px rgba(60, 64, 67, 0.15);\n",
              "      fill: #174EA6;\n",
              "    }\n",
              "\n",
              "    [theme=dark] .colab-df-convert {\n",
              "      background-color: #3B4455;\n",
              "      fill: #D2E3FC;\n",
              "    }\n",
              "\n",
              "    [theme=dark] .colab-df-convert:hover {\n",
              "      background-color: #434B5C;\n",
              "      box-shadow: 0px 1px 3px 1px rgba(0, 0, 0, 0.15);\n",
              "      filter: drop-shadow(0px 1px 2px rgba(0, 0, 0, 0.3));\n",
              "      fill: #FFFFFF;\n",
              "    }\n",
              "  </style>\n",
              "\n",
              "      <script>\n",
              "        const buttonEl =\n",
              "          document.querySelector('#df-81180ffc-51d2-4a56-abbd-a9825c9dca89 button.colab-df-convert');\n",
              "        buttonEl.style.display =\n",
              "          google.colab.kernel.accessAllowed ? 'block' : 'none';\n",
              "\n",
              "        async function convertToInteractive(key) {\n",
              "          const element = document.querySelector('#df-81180ffc-51d2-4a56-abbd-a9825c9dca89');\n",
              "          const dataTable =\n",
              "            await google.colab.kernel.invokeFunction('convertToInteractive',\n",
              "                                                     [key], {});\n",
              "          if (!dataTable) return;\n",
              "\n",
              "          const docLinkHtml = 'Like what you see? Visit the ' +\n",
              "            '<a target=\"_blank\" href=https://colab.research.google.com/notebooks/data_table.ipynb>data table notebook</a>'\n",
              "            + ' to learn more about interactive tables.';\n",
              "          element.innerHTML = '';\n",
              "          dataTable['output_type'] = 'display_data';\n",
              "          await google.colab.output.renderOutput(dataTable, element);\n",
              "          const docLink = document.createElement('div');\n",
              "          docLink.innerHTML = docLinkHtml;\n",
              "          element.appendChild(docLink);\n",
              "        }\n",
              "      </script>\n",
              "    </div>\n",
              "  </div>\n",
              "  "
            ]
          },
          "metadata": {},
          "execution_count": 42
        }
      ]
    },
    {
      "cell_type": "markdown",
      "source": [
        "9. Dos cursos listados na base de dados, qual tem o maior número de aulas (*lectures*)?"
      ],
      "metadata": {
        "id": "69Evu8BLqrS_"
      }
    },
    {
      "cell_type": "code",
      "source": [
        "max_lectures = courses[\"num_lectures\"].max()\n",
        "course_max_lectures = courses[courses[\"num_lectures\"]==max_lectures]\n",
        "course_max_lectures"
      ],
      "metadata": {
        "id": "5uqzhyXmqge0"
      },
      "execution_count": null,
      "outputs": []
    },
    {
      "cell_type": "markdown",
      "source": [
        "10. Apresente o número (contagem) de cursos agrupados por nível (coluna *level*)."
      ],
      "metadata": {
        "id": "wVg9qj3WrD5h"
      }
    },
    {
      "cell_type": "code",
      "source": [
        "courses.groupby(\"level\").count()"
      ],
      "metadata": {
        "id": "7KyIy5m3rSoI"
      },
      "execution_count": null,
      "outputs": []
    },
    {
      "cell_type": "markdown",
      "source": [
        "11. Quais são os cursos mais recentes contidos na base de dados?"
      ],
      "metadata": {
        "id": "xPzjlE_crTJY"
      }
    },
    {
      "cell_type": "code",
      "source": [
        "courses.sort_values(\"published_timestamp\", ascending=False).reset_index()[\n",
        "    [\"course_id\",\"course_title\",\"published_timestamp\"]\n",
        "    ].head()"
      ],
      "metadata": {
        "id": "nK_H8JxYrYWZ"
      },
      "execution_count": null,
      "outputs": []
    },
    {
      "cell_type": "markdown",
      "source": [
        "12. Apresente o número (contagem) de cursos agrupados por nível (coluna *level*) e por assunto (coluna *subject*)."
      ],
      "metadata": {
        "id": "cwzez2xhsYLa"
      }
    },
    {
      "cell_type": "code",
      "source": [
        "courses.groupby([\"level\", \"subject\"]).count()"
      ],
      "metadata": {
        "id": "7BXn9iPmsoCm"
      },
      "execution_count": null,
      "outputs": []
    },
    {
      "cell_type": "markdown",
      "source": [
        "13. Disponibilize suas análises em um repositório do Github e compartilhe o link abaixo."
      ],
      "metadata": {
        "id": "UoU_pvOUutMo"
      }
    },
    {
      "cell_type": "code",
      "source": [
        "# link do projeto no Github"
      ],
      "metadata": {
        "id": "NjNInZBBu3Rl"
      },
      "execution_count": null,
      "outputs": []
    },
    {
      "cell_type": "markdown",
      "source": [
        "14. Crie uma conta no <a href=\"https://www.kaggle.com/datasets/thedevastator/udemy-courses-revenue-generation-and-course-anal\">Kaggle</a> e crie um Notebook com as análises feitas neste projeto. A ideia aqui, é que você comece a criar um portfólio de análise de dados na plataforma :)"
      ],
      "metadata": {
        "id": "CPKWugdJvXQf"
      }
    },
    {
      "cell_type": "code",
      "source": [],
      "metadata": {
        "id": "YztEtLuqvWRe"
      },
      "execution_count": null,
      "outputs": []
    }
  ]
}