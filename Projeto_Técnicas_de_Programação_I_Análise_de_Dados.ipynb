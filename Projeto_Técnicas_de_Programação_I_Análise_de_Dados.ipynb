{
  "nbformat": 4,
  "nbformat_minor": 0,
  "metadata": {
    "colab": {
      "provenance": [],
      "collapsed_sections": []
    },
    "kernelspec": {
      "name": "python3",
      "display_name": "Python 3"
    },
    "language_info": {
      "name": "python"
    }
  },
  "cells": [
    {
      "cell_type": "markdown",
      "source": [
        "## Análise de Dados - Cursos plataforma de ensino *online*\n",
        "\n",
        "A análise de dados é uma ferramenta essencial para impulsionar os negócios de uma empresa, e consequentemente, agregar valor.\n",
        "<br>\n",
        "<br>\n",
        "Um dos profissionais necessários para a geração de valor para empresas, é o cientista/analista de dados. Este profissional é capaz de retirar insights de diversas fontes de dados.\n",
        "<br>\n",
        "<br>\n",
        "Dito tudo isso, você, como cientista/analista de dados recebeu a missão de analisar dados de uma empresa ensino online de tecnologia. Seu principal objetivo, é através dos dados (disponibilizados na <a href=\"https://drive.google.com/file/d/1PE-9PTK5twBuUOuuKAk3Oo02Is8Dr8q-/view?usp=share_link\">pasta compartilhada</a> deste módulo), é o de responder algumas perguntas de negócios para auxiliar a empresa a aprimorar os seus serviços e produtos.\n",
        "<br>\n",
        "<br>\n",
        "Detalhes da base de dados podem ser vistos na plataforma Kaggle pelo <a href=\"https://www.kaggle.com/datasets/thedevastator/udemy-courses-revenue-generation-and-course-anal\">link</a>\n",
        "<br>\n",
        "<br>\n",
        "Para isso, use os conhecimentos obtidos neste módulo (e anteriores) para responder as seguintes questões:\n",
        "\n",
        "**Dicas:**\n",
        "\n",
        "- Serão três diferentes bases de dados disponibilizadas na pasta do módulo, separadas por assunto (curso). Porém, todas elas contêm o mesmo cabeçalho. Logo, para que consiga responder as perguntas abaixo, unifique-as em um único **DataFrame** do pandas, e realize as análises.\n",
        "- Não é necessário criar gráficos/visualizações para apresentar os resultados de cada pergunta. Porém, se você estiver confortável para criá-los quando necessário, fique à vontade."
      ],
      "metadata": {
        "id": "OwnjctYVYDiH"
      }
    },
    {
      "cell_type": "markdown",
      "source": [
        "### Perguntas a serem respondidas a partir dos dados."
      ],
      "metadata": {
        "id": "CAutWLQXtZm1"
      }
    },
    {
      "cell_type": "markdown",
      "source": [
        "1. Quantos cursos estão disponíveis na plataforma?"
      ],
      "metadata": {
        "id": "LxbUDG_aoEJX"
      }
    },
    {
      "cell_type": "code",
      "source": [],
      "metadata": {
        "id": "JVc3skEVoPr8"
      },
      "execution_count": null,
      "outputs": []
    },
    {
      "cell_type": "markdown",
      "source": [
        "2. Quais e quantos são os cursos que abordam o assunto: JavaScript?"
      ],
      "metadata": {
        "id": "eFKSLDeyoQCF"
      }
    },
    {
      "cell_type": "code",
      "source": [],
      "metadata": {
        "id": "z1cLUiw8okVI"
      },
      "execution_count": null,
      "outputs": []
    },
    {
      "cell_type": "markdown",
      "source": [
        "3. Qual é o preço médio (coluna *price*) dos cursos oferecidos na plataforma?"
      ],
      "metadata": {
        "id": "G4cUox4RooOk"
      }
    },
    {
      "cell_type": "code",
      "source": [],
      "metadata": {
        "id": "FKOIIjcVo3xg"
      },
      "execution_count": null,
      "outputs": []
    },
    {
      "cell_type": "markdown",
      "source": [
        "4. Quais são os cinco cursos com maior número de inscritos (coluna *num_subscribers*)?"
      ],
      "metadata": {
        "id": "e-zGn_o0o2go"
      }
    },
    {
      "cell_type": "code",
      "source": [],
      "metadata": {
        "id": "ewd5ZmqcpFND"
      },
      "execution_count": null,
      "outputs": []
    },
    {
      "cell_type": "markdown",
      "source": [
        "5. Dos cinco cursos mais populares em termos de inscritos, mostre o **rate médio**, **máximo** e **mínimo** de cada um deles."
      ],
      "metadata": {
        "id": "VIN541HgpEwf"
      }
    },
    {
      "cell_type": "code",
      "source": [],
      "metadata": {
        "id": "OHt_xYF2pfb5"
      },
      "execution_count": null,
      "outputs": []
    },
    {
      "cell_type": "markdown",
      "source": [
        "6. Apresente os dez cursos mais visualizados na plataforma."
      ],
      "metadata": {
        "id": "PBMQyyHTpZ1x"
      }
    },
    {
      "cell_type": "code",
      "source": [],
      "metadata": {
        "id": "hX7kvC5OqYVt"
      },
      "execution_count": null,
      "outputs": []
    },
    {
      "cell_type": "markdown",
      "source": [
        "7. A partir dos dez cursos mais vistos, mostre: 1) qual tem o maior número de inscritos; 2) qual tem o maior **rate** (avaliação do curso)."
      ],
      "metadata": {
        "id": "r4bFZBMIpqlu"
      }
    },
    {
      "cell_type": "code",
      "source": [],
      "metadata": {
        "id": "TAjdWgV6qXuW"
      },
      "execution_count": null,
      "outputs": []
    },
    {
      "cell_type": "markdown",
      "source": [
        "8. Dos cursos listados na base de dados, qual tem maior duração em horas?"
      ],
      "metadata": {
        "id": "Gao_HBG1qZY9"
      }
    },
    {
      "cell_type": "code",
      "source": [],
      "metadata": {
        "id": "MvSGEfH9qqQK"
      },
      "execution_count": null,
      "outputs": []
    },
    {
      "cell_type": "markdown",
      "source": [
        "9. Dos cursos listados na base de dados, qual tem o maior número de aulas (*lectures*)?"
      ],
      "metadata": {
        "id": "69Evu8BLqrS_"
      }
    },
    {
      "cell_type": "code",
      "source": [],
      "metadata": {
        "id": "5uqzhyXmqge0"
      },
      "execution_count": null,
      "outputs": []
    },
    {
      "cell_type": "markdown",
      "source": [
        "10. Apresente o número (contagem) de cursos agrupados por nível (coluna *level*)."
      ],
      "metadata": {
        "id": "wVg9qj3WrD5h"
      }
    },
    {
      "cell_type": "code",
      "source": [],
      "metadata": {
        "id": "7KyIy5m3rSoI"
      },
      "execution_count": null,
      "outputs": []
    },
    {
      "cell_type": "markdown",
      "source": [
        "11. Quais são os cursos mais recentes contidos na base de dados?"
      ],
      "metadata": {
        "id": "xPzjlE_crTJY"
      }
    },
    {
      "cell_type": "code",
      "source": [],
      "metadata": {
        "id": "nK_H8JxYrYWZ"
      },
      "execution_count": null,
      "outputs": []
    },
    {
      "cell_type": "markdown",
      "source": [
        "12. Apresente o número (contagem) de cursos agrupados por nível (coluna *level*) e por assunto (coluna *subject*)."
      ],
      "metadata": {
        "id": "cwzez2xhsYLa"
      }
    },
    {
      "cell_type": "code",
      "source": [],
      "metadata": {
        "id": "7BXn9iPmsoCm"
      },
      "execution_count": null,
      "outputs": []
    },
    {
      "cell_type": "markdown",
      "source": [
        "13. Disponibilize suas análises em um repositório do Github e compartilhe o link abaixo."
      ],
      "metadata": {
        "id": "UoU_pvOUutMo"
      }
    },
    {
      "cell_type": "code",
      "source": [
        "# link do projeto no Github"
      ],
      "metadata": {
        "id": "NjNInZBBu3Rl"
      },
      "execution_count": null,
      "outputs": []
    },
    {
      "cell_type": "markdown",
      "source": [
        "14. Crie uma conta no <a href=\"https://www.kaggle.com/datasets/thedevastator/udemy-courses-revenue-generation-and-course-anal\">Kaggle</a> e crie um Notebook com as análises feitas neste projeto. A ideia aqui, é que você comece a criar um portfólio de análise de dados na plataforma :)"
      ],
      "metadata": {
        "id": "CPKWugdJvXQf"
      }
    },
    {
      "cell_type": "code",
      "source": [],
      "metadata": {
        "id": "YztEtLuqvWRe"
      },
      "execution_count": null,
      "outputs": []
    }
  ]
}